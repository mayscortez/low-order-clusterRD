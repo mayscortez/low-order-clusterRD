{
 "cells": [
  {
   "cell_type": "code",
   "execution_count": 1,
   "metadata": {},
   "outputs": [],
   "source": [
    "#import designs_setup as ds\n",
    "import numpy as np"
   ]
  },
  {
   "cell_type": "code",
   "execution_count": 2,
   "metadata": {},
   "outputs": [],
   "source": [
    "def lat_toCluster(I,J,k,q1=0,q2=0,divides = False):\n",
    "  '''\n",
    "  Returns the cluster assignment (s,t) of unit(s) (i,j) for i in I and j in J\n",
    "\n",
    "  i (int or np.array): row position of unit on n by n lattice (or array of row positions)\n",
    "  j (int or np.array): column position of unit on n by n lattice (or array of col positions)\n",
    "  k (int): typical cluster side length (each cluster is itself a k by k grid graph with k << n)\n",
    "  q1 (int): \"origin\" row position marking the end (inclusive) of first cluster\n",
    "  q2 (int): \"origin\" col position marking the end (inclusive) of first cluster\n",
    "  divides (boolean): if k divides n should be set to True\n",
    "  '''\n",
    "  if divides:\n",
    "    s = np.floor(I/k)\n",
    "    t = np.floor(J/k)\n",
    "  else:\n",
    "    s = np.ceil((I-q1)/k)\n",
    "    t = np.ceil((J-q2)/k)\n",
    "  \n",
    "  return s.astype(int),t.astype(int)"
   ]
  },
  {
   "cell_type": "code",
   "execution_count": 5,
   "metadata": {},
   "outputs": [],
   "source": [
    "def cluster_neighborhood(A,i,k):\n",
    "    '''\n",
    "    Given an adjacency matrix A and unit i, \n",
    "    returns a list of labels corresponding to the clusters adjacent to i\n",
    "    k = \"typical\" cluster side length\n",
    "    '''\n",
    "    pop_size = np.shape(A)[0] \n",
    "    n = int(np.sqrt(pop_size))  # population size is n^2\n",
    "    nc = int(np.ceil(n/k)**2)   # number of clusters is nc^2\n",
    "\n",
    "    # get indicies of i's neighbors (nonzero entries in i-th row of A)\n",
    "    neighbors = np.flatnonzero(A[i,:])\n",
    "\n",
    "    # We have nc^2 clusters represented by an nc x nc grid\n",
    "    # We have labels (s,t) in [nc] x [nc] for each cluster\n",
    "    # We also have labels k in [nc^2] for each cluster\n",
    "    # Given (s,t), k = nc*s + t. Given k, (s,t)=(np.floor(k/nc),k%nc).\n",
    "    # For each neighbor, get their cluster assignment (s,t)\n",
    "    cluster_assignments = []\n",
    "    for x in np.nditer(neighbors):\n",
    "        print(\"neighbor:\", x)\n",
    "        # get the (i,j) coordinate of this neighbor on the population lattice [n] x [n]\n",
    "        i = int(np.floor(x/n))\n",
    "        j = x % n\n",
    "        print(\"i,j= \", (i,j))\n",
    "        s,t = lat_toCluster(i,j,k,divides=(k%n==0))\n",
    "        print(\"s,t= \", (s,t))\n",
    "        cluster_assignments.append((s,t))\n",
    "    \n",
    "    # remove duplicates\n",
    "    cluster_assignments = list(set(cluster_assignments))\n",
    "\n",
    "    return cluster_assignments"
   ]
  },
  {
   "cell_type": "code",
   "execution_count": 4,
   "metadata": {},
   "outputs": [
    {
     "name": "stdout",
     "output_type": "stream",
     "text": [
      "[[1 1 1 0]\n",
      " [1 1 0 1]\n",
      " [1 0 1 1]\n",
      " [0 1 1 1]]\n"
     ]
    }
   ],
   "source": [
    "A = np.array([[1,1,1,0],[1,1,0,1],[1,0,1,1],[0,1,1,1]])\n",
    "print(A)"
   ]
  },
  {
   "cell_type": "code",
   "execution_count": 5,
   "metadata": {},
   "outputs": [
    {
     "name": "stdout",
     "output_type": "stream",
     "text": [
      "[(0, 0)]\n"
     ]
    }
   ],
   "source": [
    "l = cluster_neighborhood(A,0,2)\n",
    "print(l)"
   ]
  },
  {
   "cell_type": "code",
   "execution_count": 6,
   "metadata": {},
   "outputs": [
    {
     "name": "stdout",
     "output_type": "stream",
     "text": [
      "[[1 1 0 1 0 0 0 0 0]\n",
      " [1 1 1 0 1 0 0 0 0]\n",
      " [0 1 1 0 0 1 0 0 0]\n",
      " [1 0 0 1 1 0 1 0 0]\n",
      " [0 1 0 1 1 1 0 1 0]\n",
      " [0 0 1 0 1 1 0 0 1]\n",
      " [0 0 0 1 0 0 1 1 0]\n",
      " [0 0 0 0 1 0 1 1 1]\n",
      " [0 0 0 0 0 1 0 1 1]]\n"
     ]
    }
   ],
   "source": [
    "A = np.array([[1,1,0,1,0,0,0,0,0],\n",
    "            [1,1,1,0,1,0,0,0,0],\n",
    "            [0,1,1,0,0,1,0,0,0],\n",
    "            [1,0,0,1,1,0,1,0,0],\n",
    "            [0,1,0,1,1,1,0,1,0],\n",
    "            [0,0,1,0,1,1,0,0,1],\n",
    "            [0,0,0,1,0,0,1,1,0],\n",
    "            [0,0,0,0,1,0,1,1,1],\n",
    "            [0,0,0,0,0,1,0,1,1]])\n",
    "print(A)"
   ]
  },
  {
   "cell_type": "code",
   "execution_count": 8,
   "metadata": {},
   "outputs": [
    {
     "name": "stdout",
     "output_type": "stream",
     "text": [
      "neighbor: 0\n",
      "i,j=  (0.0, 0)\n",
      "s,t=  (0, 0)\n",
      "neighbor: 1\n",
      "i,j=  (0.0, 1)\n",
      "s,t=  (0, 1)\n",
      "neighbor: 3\n",
      "i,j=  (1.0, 0)\n",
      "s,t=  (1, 0)\n",
      "neighbor: 0\n",
      "i,j=  (0.0, 0)\n",
      "s,t=  (0, 0)\n",
      "neighbor: 1\n",
      "i,j=  (0.0, 1)\n",
      "s,t=  (0, 1)\n",
      "neighbor: 2\n",
      "i,j=  (0.0, 2)\n",
      "s,t=  (0, 1)\n",
      "neighbor: 4\n",
      "i,j=  (1.0, 1)\n",
      "s,t=  (1, 1)\n",
      "neighbor: 5\n",
      "i,j=  (1.0, 2)\n",
      "s,t=  (1, 1)\n",
      "neighbor: 7\n",
      "i,j=  (2.0, 1)\n",
      "s,t=  (1, 1)\n",
      "neighbor: 8\n",
      "i,j=  (2.0, 2)\n",
      "s,t=  (1, 1)\n",
      "[(0, 1), (1, 0), (0, 0)]\n",
      "[(0, 1), (1, 1), (0, 0)]\n",
      "[(1, 1)]\n"
     ]
    }
   ],
   "source": [
    "k = 2\n",
    "l0 = cluster_neighborhood(A,0,k)\n",
    "l1 = cluster_neighborhood(A,1,k)\n",
    "l8 = cluster_neighborhood(A,8,k)\n",
    "print(l0)\n",
    "print(l1)\n",
    "print(l8)"
   ]
  },
  {
   "cell_type": "markdown",
   "metadata": {},
   "source": [
    "### When $k$ divides $n$\n",
    "First, I'm testing whether my code works when $k | n$. I'm making the choice that when $k | n$ we don't sample a random origin. "
   ]
  },
  {
   "cell_type": "code",
   "execution_count": 11,
   "metadata": {},
   "outputs": [
    {
     "name": "stdout",
     "output_type": "stream",
     "text": [
      "Cluster : I   J\n",
      "(0, 0) : [0 1 2] [0 1 2]\n",
      "(0, 1) : [0 1 2] [3 4 5]\n",
      "(0, 2) : [0 1 2] [6 7 8]\n",
      "(0, 3) : [0 1 2] [ 9 10 11]\n",
      "\n",
      "(1, 0) : [3 4 5] [0 1 2]\n",
      "(1, 1) : [3 4 5] [3 4 5]\n",
      "(1, 2) : [3 4 5] [6 7 8]\n",
      "(1, 3) : [3 4 5] [ 9 10 11]\n",
      "\n",
      "(2, 0) : [6 7 8] [0 1 2]\n",
      "(2, 1) : [6 7 8] [3 4 5]\n",
      "(2, 2) : [6 7 8] [6 7 8]\n",
      "(2, 3) : [6 7 8] [ 9 10 11]\n",
      "\n",
      "(3, 0) : [ 9 10 11] [0 1 2]\n",
      "(3, 1) : [ 9 10 11] [3 4 5]\n",
      "(3, 2) : [ 9 10 11] [6 7 8]\n",
      "(3, 3) : [ 9 10 11] [ 9 10 11]\n",
      "\n"
     ]
    }
   ],
   "source": [
    "n = 12\n",
    "k = 3\n",
    "\n",
    "print('Cluster',':','I ',' J')\n",
    "for i in range(n//k):\n",
    "    for j in range(n//k):\n",
    "        I,J = ds.sqlat_toUnit(i,j,k,n)\n",
    "        print((i,j),':', I,J)\n",
    "    print()"
   ]
  },
  {
   "cell_type": "code",
   "execution_count": 13,
   "metadata": {},
   "outputs": [
    {
     "name": "stdout",
     "output_type": "stream",
     "text": [
      "[0 0] [0 0]\n"
     ]
    }
   ],
   "source": [
    "I = np.array([1,2])\n",
    "J = np.array([1,2])\n",
    "s,t = ds.sqlat_toCluster(I,J,k,divides=True)\n",
    "print(s,t)"
   ]
  },
  {
   "cell_type": "code",
   "execution_count": 3,
   "metadata": {},
   "outputs": [
    {
     "name": "stdout",
     "output_type": "stream",
     "text": [
      "Unit : Cluster\n",
      "(5, 0) : (1, 0)\n",
      "(5, 1) : (1, 0)\n",
      "(5, 2) : (1, 0)\n",
      "(5, 3) : (1, 1)\n",
      "(5, 4) : (1, 1)\n",
      "(5, 5) : (1, 1)\n",
      "(5, 6) : (1, 2)\n",
      "(5, 7) : (1, 2)\n",
      "(5, 8) : (1, 2)\n",
      "(5, 9) : (1, 3)\n",
      "(5, 10) : (1, 3)\n",
      "(5, 11) : (1, 3)\n",
      "\n",
      "(10, 0) : (3, 0)\n",
      "(10, 1) : (3, 0)\n",
      "(10, 2) : (3, 0)\n",
      "(10, 3) : (3, 1)\n",
      "(10, 4) : (3, 1)\n",
      "(10, 5) : (3, 1)\n",
      "(10, 6) : (3, 2)\n",
      "(10, 7) : (3, 2)\n",
      "(10, 8) : (3, 2)\n",
      "(10, 9) : (3, 3)\n",
      "(10, 10) : (3, 3)\n",
      "(10, 11) : (3, 3)\n",
      "\n"
     ]
    }
   ],
   "source": [
    "print('Unit', ':', 'Cluster')\n",
    "for i in [5,10]:\n",
    "    for j in range(n):\n",
    "        s,t = ds.sqlat_toCluster(i,j,k,divides=True)\n",
    "        print((i,j),':',(s,t))\n",
    "    print()"
   ]
  },
  {
   "cell_type": "code",
   "execution_count": 4,
   "metadata": {},
   "outputs": [
    {
     "name": "stdout",
     "output_type": "stream",
     "text": [
      "Cluster : I   J\n",
      "(0, 0) : [0 1 2 3] [0 1 2 3]\n",
      "(0, 1) : [0 1 2 3] [4 5 6 7]\n",
      "(0, 2) : [0 1 2 3] [ 8  9 10 11]\n",
      "\n",
      "(1, 0) : [4 5 6 7] [0 1 2 3]\n",
      "(1, 1) : [4 5 6 7] [4 5 6 7]\n",
      "(1, 2) : [4 5 6 7] [ 8  9 10 11]\n",
      "\n",
      "(2, 0) : [ 8  9 10 11] [0 1 2 3]\n",
      "(2, 1) : [ 8  9 10 11] [4 5 6 7]\n",
      "(2, 2) : [ 8  9 10 11] [ 8  9 10 11]\n",
      "\n"
     ]
    }
   ],
   "source": [
    "k = 4\n",
    "\n",
    "print('Cluster',':','I ',' J')\n",
    "for i in range(n//k):\n",
    "    for j in range(n//k):\n",
    "        I,J = ds.sqlat_toUnit(i,j,k,n)\n",
    "        print((i,j),':', I,J)\n",
    "    print()"
   ]
  },
  {
   "cell_type": "code",
   "execution_count": 5,
   "metadata": {},
   "outputs": [
    {
     "name": "stdout",
     "output_type": "stream",
     "text": [
      "Unit : Cluster\n",
      "(3, 0) : (0, 0)\n",
      "(3, 1) : (0, 0)\n",
      "(3, 2) : (0, 0)\n",
      "(3, 3) : (0, 0)\n",
      "(3, 4) : (0, 1)\n",
      "(3, 5) : (0, 1)\n",
      "(3, 6) : (0, 1)\n",
      "(3, 7) : (0, 1)\n",
      "(3, 8) : (0, 2)\n",
      "(3, 9) : (0, 2)\n",
      "(3, 10) : (0, 2)\n",
      "(3, 11) : (0, 2)\n",
      "\n",
      "(9, 0) : (2, 0)\n",
      "(9, 1) : (2, 0)\n",
      "(9, 2) : (2, 0)\n",
      "(9, 3) : (2, 0)\n",
      "(9, 4) : (2, 1)\n",
      "(9, 5) : (2, 1)\n",
      "(9, 6) : (2, 1)\n",
      "(9, 7) : (2, 1)\n",
      "(9, 8) : (2, 2)\n",
      "(9, 9) : (2, 2)\n",
      "(9, 10) : (2, 2)\n",
      "(9, 11) : (2, 2)\n",
      "\n"
     ]
    }
   ],
   "source": [
    "print('Unit', ':', 'Cluster')\n",
    "for i in [3,9]:\n",
    "    for j in range(n):\n",
    "        s,t = ds.sqlat_toCluster(i,j,k,divides=True)\n",
    "        print((i,j),':',(s,t))\n",
    "    print()"
   ]
  },
  {
   "cell_type": "markdown",
   "metadata": {},
   "source": [
    "### When $k$ doesn't divide $n$\n",
    "Now I want to test what happens when $k$ does not divide $n$ and hence we sample an origin point $(q_1,q_2).$"
   ]
  },
  {
   "cell_type": "code",
   "execution_count": 6,
   "metadata": {},
   "outputs": [
    {
     "name": "stdout",
     "output_type": "stream",
     "text": [
      "False\n"
     ]
    }
   ],
   "source": [
    "from numpy.random import default_rng\n",
    "n = 7\n",
    "k = 2\n",
    "print(n%k == 0)"
   ]
  },
  {
   "cell_type": "code",
   "execution_count": 7,
   "metadata": {},
   "outputs": [
    {
     "name": "stdout",
     "output_type": "stream",
     "text": [
      "1 0\n"
     ]
    }
   ],
   "source": [
    "# sample origin\n",
    "rng = default_rng()\n",
    "q1 = rng.integers(low=0, high=k)\n",
    "q2 = rng.integers(low=0, high=k)\n",
    "print(q1,q2)"
   ]
  },
  {
   "cell_type": "code",
   "execution_count": 8,
   "metadata": {},
   "outputs": [
    {
     "name": "stdout",
     "output_type": "stream",
     "text": [
      "Cluster : I     J\n",
      "(0, 0) : [0 1] [0]\n",
      "(0, 1) : [0 1] [1 2]\n",
      "(0, 2) : [0 1] [3 4]\n",
      "(0, 3) : [0 1] [5 6]\n",
      "\n",
      "(1, 0) : [2 3] [0]\n",
      "(1, 1) : [2 3] [1 2]\n",
      "(1, 2) : [2 3] [3 4]\n",
      "(1, 3) : [2 3] [5 6]\n",
      "\n",
      "(2, 0) : [4 5] [0]\n",
      "(2, 1) : [4 5] [1 2]\n",
      "(2, 2) : [4 5] [3 4]\n",
      "(2, 3) : [4 5] [5 6]\n",
      "\n",
      "(3, 0) : [6] [0]\n",
      "(3, 1) : [6] [1 2]\n",
      "(3, 2) : [6] [3 4]\n",
      "(3, 3) : [6] [5 6]\n",
      "\n"
     ]
    }
   ],
   "source": [
    "num = np.ceil(n/k)\n",
    "print('Cluster',':','I  ','  J')\n",
    "for i in range(num.astype(int)):\n",
    "    for j in range(num.astype(int)):\n",
    "        I,J = ds.sqlat_toUnit(i,j,k,n,q1,q2)\n",
    "        print((i,j),':', I,J)\n",
    "    print()"
   ]
  },
  {
   "cell_type": "code",
   "execution_count": 9,
   "metadata": {},
   "outputs": [
    {
     "name": "stdout",
     "output_type": "stream",
     "text": [
      "0 0\n"
     ]
    }
   ],
   "source": [
    "q1 = rng.integers(low=0, high=k)\n",
    "q2 = rng.integers(low=0, high=k)\n",
    "print(q1,q2)"
   ]
  },
  {
   "cell_type": "code",
   "execution_count": 10,
   "metadata": {},
   "outputs": [
    {
     "name": "stdout",
     "output_type": "stream",
     "text": [
      "Cluster : I     J\n",
      "(0, 0) : [0] [0]\n",
      "(0, 1) : [0] [1 2]\n",
      "(0, 2) : [0] [3 4]\n",
      "(0, 3) : [0] [5 6]\n",
      "\n",
      "(1, 0) : [1 2] [0]\n",
      "(1, 1) : [1 2] [1 2]\n",
      "(1, 2) : [1 2] [3 4]\n",
      "(1, 3) : [1 2] [5 6]\n",
      "\n",
      "(2, 0) : [3 4] [0]\n",
      "(2, 1) : [3 4] [1 2]\n",
      "(2, 2) : [3 4] [3 4]\n",
      "(2, 3) : [3 4] [5 6]\n",
      "\n",
      "(3, 0) : [5 6] [0]\n",
      "(3, 1) : [5 6] [1 2]\n",
      "(3, 2) : [5 6] [3 4]\n",
      "(3, 3) : [5 6] [5 6]\n",
      "\n"
     ]
    }
   ],
   "source": [
    "num = np.ceil(n/k)\n",
    "print('Cluster',':','I  ','  J')\n",
    "for i in range(num.astype(int)):\n",
    "    for j in range(num.astype(int)):\n",
    "        I,J = ds.sqlat_toUnit(i,j,k,n,q1,q2)\n",
    "        print((i,j),':', I,J)\n",
    "    print()"
   ]
  }
 ],
 "metadata": {
  "kernelspec": {
   "display_name": "Python 3.8.10 ('networkcausal2022': venv)",
   "language": "python",
   "name": "python3"
  },
  "language_info": {
   "codemirror_mode": {
    "name": "ipython",
    "version": 3
   },
   "file_extension": ".py",
   "mimetype": "text/x-python",
   "name": "python",
   "nbconvert_exporter": "python",
   "pygments_lexer": "ipython3",
   "version": "3.8.10"
  },
  "orig_nbformat": 4,
  "vscode": {
   "interpreter": {
    "hash": "6eebfb57edd8d04f6c7400c7f1b4e1ce915b8b01987519f009093ec2688412c4"
   }
  }
 },
 "nbformat": 4,
 "nbformat_minor": 2
}

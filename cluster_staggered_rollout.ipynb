{
 "cells": [
  {
   "cell_type": "code",
   "execution_count": 16,
   "metadata": {},
   "outputs": [],
   "source": [
    "import numpy as np\n",
    "import networkx as nx\n",
    "from myFunctions import *"
   ]
  },
  {
   "attachments": {},
   "cell_type": "markdown",
   "metadata": {},
   "source": [
    "# Experiments"
   ]
  },
  {
   "cell_type": "code",
   "execution_count": 2,
   "metadata": {},
   "outputs": [
    {
     "name": "stderr",
     "output_type": "stream",
     "text": [
      "/Users/mayleencortez/Desktop/NetworkCausalInference/ClusterRD/low-order-clusterRD/.venv/lib/python3.11/site-packages/scipy/sparse/_index.py:146: SparseEfficiencyWarning: Changing the sparsity structure of a csr_matrix is expensive. lil_matrix is more efficient.\n",
      "  self._set_arrayXarray(i, j, x)\n"
     ]
    }
   ],
   "source": [
    "####### Construct Network ########\n",
    "\n",
    "N = 6**2        # population size\n",
    "n = 6\n",
    "\n",
    "# Create lattice network\n",
    "A = lattice2Dsq(n,n);"
   ]
  },
  {
   "cell_type": "code",
   "execution_count": 102,
   "metadata": {},
   "outputs": [
    {
     "name": "stdout",
     "output_type": "stream",
     "text": [
      "[[0 0 0 1 1 1]\n",
      " [0 0 0 1 1 1]\n",
      " [0 0 0 1 1 1]\n",
      " [2 2 2 3 3 3]\n",
      " [2 2 2 3 3 3]\n",
      " [2 2 2 3 3 3]]\n"
     ]
    }
   ],
   "source": [
    "k = 3\n",
    "NC = int(np.ceil(n/k)**2) # number of clusters \n",
    "\n",
    "clusters, clusters_flat = bf_clusters(NC,N)\n",
    "print(clusters)"
   ]
  },
  {
   "cell_type": "code",
   "execution_count": 19,
   "metadata": {},
   "outputs": [
    {
     "name": "stdout",
     "output_type": "stream",
     "text": [
      "The true TTE is 1.2109166773413609\n",
      "\n",
      "With 1 by 1 clusters, the estimated TTE is 1.2024476700353368\n",
      "The relative bias (TTE - est) / TTE is 0.006993881135255543\n",
      "\n",
      "With 2 by 2 clusters, the estimated TTE is 1.432439161118765\n",
      "The relative bias (TTE - est) / TTE is -0.1829378419857672\n",
      "\n",
      "With 4 by 4 clusters, the estimated TTE is 1.1180451524396415\n",
      "The relative bias (TTE - est) / TTE is 0.07669522324659386\n",
      "\n",
      "With 8 by 8 clusters, the estimated TTE is 1.2627634648746555\n",
      "The relative bias (TTE - est) / TTE is -0.042816147884862994\n"
     ]
    }
   ],
   "source": [
    "T = 20\n",
    "N = 6**2  # population size\n",
    "n = 6     # number of nodes in one row/col of the lattice graph\n",
    "B = 1/4   # total treatment budget/fraction\n",
    "\n",
    "diag = 1          # maximum norm of the direct effects\n",
    "r = 1.25\n",
    "offdiag = r*diag  # maximum norm of the indirect effects\n",
    "\n",
    "# Create weighted lattice network\n",
    "A = lattice2Dsq(n,n);\n",
    "rand_wts = np.random.rand(N,3)\n",
    "alpha = rand_wts[:,0].flatten()\n",
    "C = simpleWeights(A, diag, offdiag, rand_wts[:,1].flatten(), rand_wts[:,2].flatten())\n",
    "\n",
    "beta = 1\n",
    "fy = ppom(beta, C, alpha)\n",
    "\n",
    "TTE = 1/N * np.sum((fy(np.ones(N)) - fy(np.zeros(N))))\n",
    "print(\"The true TTE is {}\".format(TTE))\n",
    "\n",
    "# Run experiment\n",
    "sizes = [1,2,4,8]\n",
    "for k in sizes:\n",
    "    NC = int(np.ceil(n/k)**2) # number of clusters \n",
    "    #print(\"NC={}\".format(NC))\n",
    "    clusters, clusters_flat = bf_clusters(NC,N)\n",
    "    K = int(np.ceil(NC*B*2))\n",
    "    #print(\"K={}\".format(K))\n",
    "\n",
    "    est = []\n",
    "    for t in np.arange(T):\n",
    "        selected = select_clusters_complete(NC, K)\n",
    "        #print(selected)\n",
    "        \n",
    "        # Run staggered rollout\n",
    "        selected_nodes = idx_of_U(selected, clusters_flat)\n",
    "        p = NC * B / K\n",
    "        P = seq_treatment_probs(beta, p)\n",
    "        \n",
    "        Z = staggered_rollout_bern(N, P, selected_nodes)\n",
    "\n",
    "        # Compute Estimate of the TTE and bias\n",
    "        outcomes = outcome_sums(fy, Z)\n",
    "        H = bern_coeffs(P)\n",
    "        q = K/NC\n",
    "        est.append(graph_agnostic(N, outcomes, H)/q)\n",
    "    TTE_hat = sum(est)/T\n",
    "    print(\"\\nWith {} by {} clusters, the estimated TTE is {}\".format(k, k, TTE_hat))\n",
    "    print(\"The relative bias (TTE - est) / TTE is {}\".format((TTE-TTE_hat)/TTE))\n",
    "\n",
    "\n",
    "   "
   ]
  },
  {
   "cell_type": "code",
   "execution_count": null,
   "metadata": {},
   "outputs": [],
   "source": [
    "N = 6**2        # population size\n",
    "n = 6\n",
    "\n",
    "# Create lattice network\n",
    "A = lattice2Dsq(n,n);\n",
    "\n",
    "# Compute number of clusters\n",
    "k = 3\n",
    "NC = int(np.ceil(n/k)**2) # number of clusters \n",
    "\n",
    "# Compute clusters\n",
    "clusters, clusters_flat = bf_clusters(NC,N)\n",
    "\n",
    "# Select clusters for the experiment\n",
    "B = 1/4\n",
    "K = NC//2\n",
    "selected = select_clusters_complete(NC, K)[0]\n",
    "\n",
    "# Run experiment and get resulting treatment vector\n",
    "n_U = int(N/NC*K)\n",
    "p = NC * B / K\n",
    "z_U = bernoulli(n_U, p)\n",
    "\n",
    "# Compute the treatment assignment vector for the entire population\n",
    "lst = idx_of_U(selected, clusters_flat)\n",
    "z = zU_to_z(z_U, lst, N)"
   ]
  },
  {
   "cell_type": "code",
   "execution_count": 119,
   "metadata": {},
   "outputs": [],
   "source": [
    "def idx_of_U(selectedClusters, clusters_flat):\n",
    "    '''\n",
    "    Returns the population units in [N] whose clusters were selected, \n",
    "    where where N=n*n is the size of the population\n",
    "\n",
    "    Parameters\n",
    "    -----------\n",
    "    selectedClusters : array\n",
    "        The clusters selected to be part of the staggered rollout experiment\n",
    "    clusters_flat : array\n",
    "        cluster assignments for each person in [N]\n",
    "        clusters_flat[i]=j means that population unit i in [N] is assigned to cluster j in [NC]\n",
    "    \n",
    "    Returns\n",
    "    -----------\n",
    "    lst : list\n",
    "        list of the nodes whose clusters were selected (U)\n",
    "    '''\n",
    "    st = set(selectedClusters)\n",
    "    lst = [i for i, e in enumerate(clusters_flat) if e in st]\n",
    "    return lst\n",
    "\n",
    "def zU_to_z(z_U, lst, N):\n",
    "    '''\n",
    "    Let U be the set of individuals randomized to treatment or control.\n",
    "    This function takes the treatment assignment vector of U and returns\n",
    "    the treatment assignment vector for the whole population (of size N=n*n).\n",
    "\n",
    "    Parameters\n",
    "    -----------\n",
    "    z_U : array\n",
    "        treatment assignment vector for nodes in U\n",
    "    lst : list\n",
    "        list of the nodes in U\n",
    "    N : int\n",
    "        size of the popluation (N=n*n)\n",
    "    '''\n",
    "    # Get the indices from [N_U] of treated units\n",
    "    treated_U = np.nonzero(z_U)[0]\n",
    "\n",
    "    # Get their corresponded indices in [N]\n",
    "    treated = list(map(lst.__getitem__, treated_U))\n",
    "    \n",
    "    # Create the treatment assignment vector of the whole population\n",
    "    z = np.zeros(N)\n",
    "    np.put(z,treated,1)\n",
    "\n",
    "    return z"
   ]
  },
  {
   "cell_type": "code",
   "execution_count": 122,
   "metadata": {},
   "outputs": [
    {
     "name": "stderr",
     "output_type": "stream",
     "text": [
      "/Users/mayleencortez/Desktop/NetworkCausalInference/ClusterRD/low-order-clusterRD/.venv/lib/python3.11/site-packages/scipy/sparse/_index.py:146: SparseEfficiencyWarning: Changing the sparsity structure of a csr_matrix is expensive. lil_matrix is more efficient.\n",
      "  self._set_arrayXarray(i, j, x)\n"
     ]
    }
   ],
   "source": [
    "N = 6**2        # population size\n",
    "n = 6\n",
    "\n",
    "# Create lattice network\n",
    "A = lattice2Dsq(n,n);\n",
    "\n",
    "# Compute number of clusters\n",
    "k = 3\n",
    "NC = int(np.ceil(n/k)**2) # number of clusters \n",
    "\n",
    "# Compute clusters\n",
    "clusters, clusters_flat = bf_clusters(NC,N)\n",
    "\n",
    "# Select clusters for the experiment\n",
    "B = 1/4\n",
    "K = NC//2\n",
    "selected = select_clusters_complete(NC, K)[0]\n",
    "\n",
    "# Run experiment and get resulting treatment vector\n",
    "n_U = int(N/NC*K)\n",
    "p = NC * B / K\n",
    "z_U = bernoulli(n_U, p)\n",
    "\n",
    "# Compute the treatment assignment vector for the entire population\n",
    "lst = idx_of_U(selected, clusters_flat)\n",
    "z = zU_to_z(z_U, lst, N)"
   ]
  },
  {
   "attachments": {},
   "cell_type": "markdown",
   "metadata": {},
   "source": [
    "# Examples of code I found online to do things..."
   ]
  },
  {
   "cell_type": "code",
   "execution_count": 123,
   "metadata": {},
   "outputs": [
    {
     "name": "stdout",
     "output_type": "stream",
     "text": [
      "Original list : [9, 4, 5, 8, 10, 14]\n",
      "Original index list : [1, 3, 4]\n",
      "Resulting list: [4, 8, 10]\n"
     ]
    }
   ],
   "source": [
    "# initializing lists\n",
    "test_list = [9, 4, 5, 8, 10, 14]\n",
    "index_list = [1, 3, 4]\n",
    "\n",
    "# printing original lists\n",
    "print(\"Original list : \" + str(test_list))\n",
    "print(\"Original index list : \" + str(index_list))\n",
    "\n",
    "# using map() + __getitem__ to\n",
    "# elements from list\n",
    "res_list = map(test_list.__getitem__, index_list)\n",
    "\n",
    "# printing result\n",
    "print(\"Resulting list: {}\".format(list(res_list)))\n"
   ]
  },
  {
   "cell_type": "code",
   "execution_count": 66,
   "metadata": {},
   "outputs": [
    {
     "name": "stdout",
     "output_type": "stream",
     "text": [
      "[0. 1. 0. 1. 1. 0. 0. 0. 0. 0.]\n"
     ]
    }
   ],
   "source": [
    "a = np.zeros(10)\n",
    "idx = np.array([1,3,4])\n",
    "np.put(a,idx,1)\n",
    "print(a)"
   ]
  },
  {
   "cell_type": "code",
   "execution_count": 55,
   "metadata": {},
   "outputs": [
    {
     "data": {
      "text/plain": [
       "False"
      ]
     },
     "execution_count": 55,
     "metadata": {},
     "output_type": "execute_result"
    }
   ],
   "source": [
    "haystack = ['a', 'b', 'c', 'V', 'd', 'e', 'X', 'f', 'V', 'g', 'h']\n",
    "needles = ['V', 'W', 'X', 'Y', 'Z']\n",
    "st = set(needles)\n",
    "print([i for i, e in enumerate(haystack) if e in st])\n",
    "[3, 6, 8]"
   ]
  }
 ],
 "metadata": {
  "kernelspec": {
   "display_name": ".venv",
   "language": "python",
   "name": "python3"
  },
  "language_info": {
   "codemirror_mode": {
    "name": "ipython",
    "version": 3
   },
   "file_extension": ".py",
   "mimetype": "text/x-python",
   "name": "python",
   "nbconvert_exporter": "python",
   "pygments_lexer": "ipython3",
   "version": "3.11.3"
  },
  "orig_nbformat": 4
 },
 "nbformat": 4,
 "nbformat_minor": 2
}

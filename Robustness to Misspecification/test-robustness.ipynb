{
 "cells": [
  {
   "cell_type": "code",
   "execution_count": 2,
   "metadata": {},
   "outputs": [
    {
     "name": "stdout",
     "output_type": "stream",
     "text": [
      "[[1 0 0 0 0 0]\n",
      " [0 1 1 0 0 0]\n",
      " [0 1 1 0 0 0]\n",
      " [0 0 0 1 0 1]\n",
      " [0 0 0 1 1 0]\n",
      " [0 1 1 0 0 1]]\n",
      "\n",
      "[0 1 0 0 0 1]\n",
      "\n",
      "[ 8.83960397  8.66491049  8.96752102 20.56879625 20.64286355 17.40379468]\n",
      "[ 8.83960397  8.66491049  8.96752102 11.         11.         11.        ]\n",
      "\n",
      "[ 0.41808015  2.141468    1.83180135  8.23906143  0.36294851 13.97655059]\n",
      "[ 0.41808015  2.141468    1.83180135  8.23906143  0.36294851 11.        ]\n"
     ]
    }
   ],
   "source": [
    "import experiment_functions as ef\n",
    "import numpy as np\n",
    "beta = 2 #2: 9-14, 3: 22-47, 4: 36-49 \n",
    "A = ef.SBM(6, 2, 0.4, 0.2)[1]\n",
    "print(A.toarray())\n",
    "print()\n",
    "\n",
    "rand_wts = np.random.rand(6,1)\n",
    "alpha = rand_wts[:,0].flatten()\n",
    "C = ef.binary_covariate_weights(2, A, 0, sigma=0.1)\n",
    "#print(C.toarray())\n",
    "\n",
    "z = ef.bernoulli(6,0.5)\n",
    "print(z)\n",
    "print()\n",
    "\n",
    "fy_ppom = ef.ppom(beta, C, alpha)\n",
    "fy_sat = ef.saturation_model(11, beta, C, alpha)\n",
    "print(fy_ppom(np.ones(6)))\n",
    "print(fy_sat(np.ones(6)))\n",
    "print()\n",
    "print(fy_ppom(z))\n",
    "print(fy_sat(z))"
   ]
  },
  {
   "cell_type": "code",
   "execution_count": 10,
   "metadata": {},
   "outputs": [
    {
     "name": "stdout",
     "output_type": "stream",
     "text": [
      "[[1 0 0 0 0 0]\n",
      " [0 1 0 0 0 0]\n",
      " [0 0 1 0 0 0]\n",
      " [0 0 1 1 1 0]\n",
      " [0 0 0 0 1 0]\n",
      " [0 0 0 0 0 1]]\n",
      "\n",
      "[0 0 1 0 0 1]\n",
      "\n",
      "[36.476048   36.55182529 36.99869015 49.7698816  43.2832736  42.91509083]\n",
      "[36.476048   36.55182529 36.99869015 49.7698816  43.2832736  42.91509083]\n",
      "\n",
      "[ 0.2696526   0.40524934 36.99869015  1.1661615   0.95573153 42.91509083]\n",
      "[ 0.          0.         36.99869015  0.          0.         42.91509083]\n"
     ]
    }
   ],
   "source": [
    "import experiment_functions as ef\n",
    "import numpy as np\n",
    "beta = 4 #2: 9-14, 3: 22-47, 4: 36-49 \n",
    "A = ef.SBM(6, 2, 0.4, 0.2)[1]\n",
    "print(A.toarray())\n",
    "print()\n",
    "\n",
    "rand_wts = np.random.rand(6,1)\n",
    "alpha = rand_wts[:,0].flatten()\n",
    "C = ef.binary_covariate_weights(2, A, 0, sigma=0.1)\n",
    "#print(C.toarray())\n",
    "\n",
    "z = ef.bernoulli(6,0.5)\n",
    "print(z)\n",
    "print()\n",
    "\n",
    "fy_ppom = ef.ppom(beta, C, alpha)\n",
    "fy_thresh = ef.threshold_model(0.5, beta, C, alpha, A, type=\"prop\")\n",
    "print(fy_ppom(np.ones(6)))\n",
    "print(fy_thresh(np.ones(6)))\n",
    "print()\n",
    "print(fy_ppom(z))\n",
    "print(fy_thresh(z))\n"
   ]
  }
 ],
 "metadata": {
  "kernelspec": {
   "display_name": ".venv",
   "language": "python",
   "name": "python3"
  },
  "language_info": {
   "codemirror_mode": {
    "name": "ipython",
    "version": 3
   },
   "file_extension": ".py",
   "mimetype": "text/x-python",
   "name": "python",
   "nbconvert_exporter": "python",
   "pygments_lexer": "ipython3",
   "version": "3.11.3"
  }
 },
 "nbformat": 4,
 "nbformat_minor": 2
}

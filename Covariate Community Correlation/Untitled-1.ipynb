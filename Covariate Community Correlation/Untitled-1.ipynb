{
 "cells": [
  {
   "cell_type": "code",
   "execution_count": 1,
   "metadata": {},
   "outputs": [],
   "source": [
    "def covariate_type(i, n, K, num):\n",
    "    '''\n",
    "    Returns the covariate type of unit i. Assumes that the number of communities is divisible by the number of covariate types.\n",
    "\n",
    "    n (int) = number of units in the population\n",
    "    K (int) = number of communities (blocks) in the SBM\n",
    "    num (int)  = number of covariate types\n",
    "\n",
    "    Example: Suppose n=8, K=4, and num = 2. \n",
    "        Communities 0 and 1 are assigned covariate type 0 and contain individuals 0,1,2,3\n",
    "        Communities 2 and 3 are assigned covariate type 1 and contain individuals 4,5,6,7\n",
    "        Individual i's covariate type is i // 4. Note that 4 = n // num.\n",
    "\n",
    "    Example: Suppose n=8, K=2, and num = 2.\n",
    "        Community 0 is assigned covariate type 0 and contains individuals 0,1,2,3\n",
    "        Communities 1 is assigned covariate type 1 and contains individuals 4,5,6,7\n",
    "        Individual i's covariate type is i // 4. Note that 4 = n // num.\n",
    "\n",
    "    Example: Suppose n=8, K=4, and num = 4.\n",
    "        Community 0 is assigned covariate type 0 and contains individuals 0,1\n",
    "        Community 1 is assigned covariate type 1 and contains individuals 2,3\n",
    "        Community 2 is assigned covariate type 2 and contains individuals 4,5\n",
    "        Community 3 is assigned covariate type 3 and contains individuals 6,7\n",
    "        Individual i's covariate type is i // 2. Note that 2 = n // num.\n",
    "    '''\n",
    "    assert num <= K and num%K==0, \"there cannot be more covariate types than number of communities; number of types should divide evenly into the number of groups\"\n",
    "    div = n // num\n",
    "    return i // div"
   ]
  },
  {
   "cell_type": "code",
   "execution_count": 2,
   "metadata": {},
   "outputs": [
    {
     "name": "stdout",
     "output_type": "stream",
     "text": [
      "0\n",
      "0\n",
      "0\n",
      "0\n",
      "0\n",
      "1\n",
      "1\n",
      "1\n",
      "1\n",
      "1\n",
      "2\n",
      "2\n",
      "2\n",
      "2\n",
      "2\n",
      "3\n",
      "3\n",
      "3\n",
      "3\n",
      "3\n",
      "4\n",
      "4\n",
      "4\n",
      "4\n",
      "4\n"
     ]
    }
   ],
   "source": [
    "n = 25\n",
    "K = 5\n",
    "num = 5\n",
    "\n",
    "for i in range(n):\n",
    "    print(covariate_type(i, n, K, num))"
   ]
  },
  {
   "cell_type": "code",
   "execution_count": 2,
   "metadata": {},
   "outputs": [
    {
     "name": "stdout",
     "output_type": "stream",
     "text": [
      "[[0. 0. 0. 0. 0.]\n",
      " [0. 0. 0. 0. 0.]\n",
      " [0. 0. 0. 0. 0.]\n",
      " [0. 0. 0. 0. 0.]\n",
      " [0. 0. 0. 0. 0.]]\n"
     ]
    }
   ],
   "source": [
    "import numpy as np\n",
    "C = np.zeros((5,5))\n",
    "print(C)"
   ]
  },
  {
   "cell_type": "code",
   "execution_count": 12,
   "metadata": {},
   "outputs": [],
   "source": [
    "arr = np.zeros(10)\n",
    "arr[0:10//2] = 1\n",
    "print(arr)\n",
    "arr[10//2:] = 2\n",
    "print(arr)"
   ]
  },
  {
   "cell_type": "code",
   "execution_count": 18,
   "metadata": {},
   "outputs": [
    {
     "name": "stdout",
     "output_type": "stream",
     "text": [
      "[[0. 1. 2.]\n",
      " [3. 4. 5.]\n",
      " [6. 7. 8.]]\n",
      "\n",
      "[0. 1. 2.]\n",
      "\n",
      "[[ 0.  1.  4.]\n",
      " [ 0.  4. 10.]\n",
      " [ 0.  7. 16.]]\n"
     ]
    }
   ],
   "source": [
    "x1 = np.arange(9.0).reshape((3, 3))\n",
    "x2 = np.arange(3.0)\n",
    "print(x1)\n",
    "print()\n",
    "print(x2)\n",
    "print()\n",
    "print(np.multiply(x1, x2))"
   ]
  },
  {
   "cell_type": "code",
   "execution_count": 3,
   "metadata": {},
   "outputs": [
    {
     "name": "stdout",
     "output_type": "stream",
     "text": [
      "[0 0 0 0 1 1 1 1]\n",
      "[0.10496053 0.81057902 0.03369502 0.0766198  0.29896807 0.22788365\n",
      " 0.3027362  0.71794009]\n"
     ]
    }
   ],
   "source": [
    "arr = np.array([0,0,0,0,1,1,1,1])\n",
    "P = np.random.rand(8)\n",
    "print(arr)\n",
    "print(P)"
   ]
  },
  {
   "cell_type": "code",
   "execution_count": 4,
   "metadata": {},
   "outputs": [
    {
     "name": "stdout",
     "output_type": "stream",
     "text": [
      "[1 0 1 1 1 1 1 0]\n"
     ]
    },
    {
     "data": {
      "text/plain": [
       "(array([0, 2, 3, 4, 5, 6]),)"
      ]
     },
     "execution_count": 4,
     "metadata": {},
     "output_type": "execute_result"
    }
   ],
   "source": [
    "P = (P < 0.5)+0\n",
    "print(P)\n",
    "np.nonzero(P)"
   ]
  },
  {
   "cell_type": "code",
   "execution_count": 9,
   "metadata": {},
   "outputs": [
    {
     "name": "stdout",
     "output_type": "stream",
     "text": [
      "[0.2 0.2 0.2 0.2 0.2 0.2 0.2 0.2]\n",
      "[0.8 0.2 0.8 0.8 0.8 0.8 0.8 0.2]\n"
     ]
    }
   ],
   "source": [
    "arr = np.zeros(8) + 0.2\n",
    "print(arr)\n",
    "\n",
    "arr[np.nonzero(P)] = 0.8\n",
    "print(arr)"
   ]
  },
  {
   "cell_type": "code",
   "execution_count": 13,
   "metadata": {},
   "outputs": [
    {
     "name": "stdout",
     "output_type": "stream",
     "text": [
      "[0.8 0.2 0.8 0.8 0.8 0.8 0.8 0.2 0.8 0.8 0.8 0.8 0.8 0.8 0.8 0.8]\n"
     ]
    }
   ],
   "source": [
    "arr2 = np.zeros(8) + 0.8\n",
    "arr3 = np.concatenate((arr,arr2))\n",
    "print(arr3)\n"
   ]
  },
  {
   "cell_type": "code",
   "execution_count": 15,
   "metadata": {},
   "outputs": [
    {
     "data": {
      "text/plain": [
       "0"
      ]
     },
     "execution_count": 15,
     "metadata": {},
     "output_type": "execute_result"
    }
   ],
   "source": [
    "np.round(0, 2)"
   ]
  },
  {
   "cell_type": "code",
   "execution_count": 15,
   "metadata": {},
   "outputs": [
    {
     "name": "stdout",
     "output_type": "stream",
     "text": [
      "(1000, 1000)\n",
      "(1000,)\n",
      "(1000, 1000)\n"
     ]
    }
   ],
   "source": [
    "import numpy as np\n",
    "x1 = np.random.rand(1000,1000)\n",
    "print(x1.shape)\n",
    "x2 = np.random.rand(1000,)\n",
    "print(x2.shape)\n",
    "x1x2 = np.multiply(x1, x2)\n",
    "print(x1x2.shape)"
   ]
  },
  {
   "cell_type": "code",
   "execution_count": 29,
   "metadata": {},
   "outputs": [
    {
     "data": {
      "text/plain": [
       "(1000,)"
      ]
     },
     "execution_count": 29,
     "metadata": {},
     "output_type": "execute_result"
    }
   ],
   "source": [
    "x1x2dot = np.dot(x1,x2)\n",
    "x1x2dot.shape"
   ]
  },
  {
   "cell_type": "code",
   "execution_count": 11,
   "metadata": {},
   "outputs": [],
   "source": [
    "import networkx as nx\n",
    "def SBM(n, k, Pii, Pij):\n",
    "    '''\n",
    "    Returns the adjacency matrix of a stochastic block model on n nodes with k communities\n",
    "    The edge prob within the same community is Pii\n",
    "    The edge prob across different communities is Pij\n",
    "    '''\n",
    "    sizes = np.zeros(k, dtype=int) + n//k\n",
    "    probs = np.zeros((k,k)) + Pij\n",
    "    np.fill_diagonal(probs, Pii)\n",
    "    G = nx.stochastic_block_model(sizes, probs)\n",
    "    A = nx.adjacency_matrix(nx.stochastic_block_model(sizes, probs))\n",
    "    #blocks = nx.get_node_attributes(G, \"block\")\n",
    "    return G, A"
   ]
  },
  {
   "cell_type": "code",
   "execution_count": 22,
   "metadata": {},
   "outputs": [],
   "source": [
    "from myFunctions import simpleWeights\n",
    "n, nc = 10, 5\n",
    "Pii, Pij = 0.5,0\n",
    "diag = 1\n",
    "offdiag = 1.25\n",
    "G, A = SBM(n, nc, Pii, Pij)\n",
    "rand_wts = np.random.rand(n,3)\n",
    "C = simpleWeights(A, diag, offdiag, rand_wts[:,1].flatten(), rand_wts[:,2].flatten())"
   ]
  },
  {
   "cell_type": "code",
   "execution_count": 27,
   "metadata": {},
   "outputs": [
    {
     "name": "stdout",
     "output_type": "stream",
     "text": [
      "(10, 10)\n"
     ]
    }
   ],
   "source": [
    "print(C.shape)"
   ]
  },
  {
   "cell_type": "code",
   "execution_count": 25,
   "metadata": {},
   "outputs": [
    {
     "name": "stdout",
     "output_type": "stream",
     "text": [
      "[0.25 0.25 0.25 0.25 4.   4.   4.   4.   4.   4.  ] (10,)\n"
     ]
    }
   ],
   "source": [
    "minimal = 1/4\n",
    "extreme = 4\n",
    "phi = 0.25\n",
    "\n",
    "n = C.shape[0]\n",
    "scaling1 = np.zeros(n//2) + minimal\n",
    "scaling2 = np.zeros(n//2) + extreme\n",
    "\n",
    "R1 = np.random.rand(n//2)\n",
    "R2 = np.random.rand(n//2)\n",
    "R1 = (R1 < phi) + 0\n",
    "R2 = (R2 < phi) + 0\n",
    "\n",
    "scaling1[np.nonzero(R1)] = extreme\n",
    "scaling2[np.nonzero(R2)] = minimal\n",
    "\n",
    "scaling = np.concatenate((scaling1,scaling2))\n",
    "print(scaling, scaling.shape)"
   ]
  },
  {
   "cell_type": "code",
   "execution_count": 30,
   "metadata": {},
   "outputs": [
    {
     "name": "stdout",
     "output_type": "stream",
     "text": [
      "(10, 10)\n"
     ]
    }
   ],
   "source": [
    "newC = C.multiply(scaling)\n",
    "print(newC.shape)"
   ]
  },
  {
   "cell_type": "code",
   "execution_count": 34,
   "metadata": {},
   "outputs": [
    {
     "name": "stdout",
     "output_type": "stream",
     "text": [
      "[[1 2 3]\n",
      " [0 1 0]\n",
      " [1 0 0]\n",
      " [0 0 3]] (4, 3)\n"
     ]
    }
   ],
   "source": [
    "arr = np.array([[1,2,3], [0,1,0], [1,0,0], [0,0,3]])\n",
    "print(arr, arr.shape)"
   ]
  },
  {
   "cell_type": "code",
   "execution_count": 36,
   "metadata": {},
   "outputs": [
    {
     "name": "stdout",
     "output_type": "stream",
     "text": [
      "  (0, 0)\t1\n",
      "  (0, 1)\t2\n",
      "  (0, 2)\t3\n",
      "  (1, 1)\t1\n",
      "  (2, 0)\t1\n",
      "  (3, 2)\t3 (4, 3)\n"
     ]
    }
   ],
   "source": [
    "from scipy import sparse\n",
    "sA = sparse.csr_matrix(arr)\n",
    "print(sA, sA.shape)"
   ]
  },
  {
   "cell_type": "code",
   "execution_count": 37,
   "metadata": {},
   "outputs": [
    {
     "name": "stdout",
     "output_type": "stream",
     "text": [
      "[[2 6 3]\n",
      " [0 3 0]\n",
      " [2 0 0]\n",
      " [0 0 3]] (4, 3)\n"
     ]
    }
   ],
   "source": [
    "B = np.array([2, 3, 1])\n",
    "arrB = np.multiply(arr,B)\n",
    "print(arrB, arrB.shape)"
   ]
  },
  {
   "cell_type": "code",
   "execution_count": 38,
   "metadata": {},
   "outputs": [
    {
     "name": "stdout",
     "output_type": "stream",
     "text": [
      "  (0, 0)\t2\n",
      "  (0, 1)\t6\n",
      "  (0, 2)\t3\n",
      "  (1, 1)\t3\n",
      "  (2, 0)\t2\n",
      "  (3, 2)\t3 (4, 3)\n"
     ]
    }
   ],
   "source": [
    "AB = sA.multiply(B)\n",
    "print(AB, AB.shape)"
   ]
  }
 ],
 "metadata": {
  "kernelspec": {
   "display_name": ".venv",
   "language": "python",
   "name": "python3"
  },
  "language_info": {
   "codemirror_mode": {
    "name": "ipython",
    "version": 3
   },
   "file_extension": ".py",
   "mimetype": "text/x-python",
   "name": "python",
   "nbconvert_exporter": "python",
   "pygments_lexer": "ipython3",
   "version": "3.11.3"
  },
  "orig_nbformat": 4
 },
 "nbformat": 4,
 "nbformat_minor": 2
}
